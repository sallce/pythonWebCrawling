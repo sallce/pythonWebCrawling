{
 "cells": [
  {
   "cell_type": "code",
   "execution_count": 2,
   "metadata": {
    "collapsed": true
   },
   "outputs": [],
   "source": [
    "from urllib.request import urlopen\n",
    "from bs4 import BeautifulSoup"
   ]
  },
  {
   "cell_type": "code",
   "execution_count": 3,
   "metadata": {
    "collapsed": true
   },
   "outputs": [],
   "source": [
    "html = urlopen(\"http://jr.jd.com\")\n",
    "bs_obj = BeautifulSoup(html.read(), 'html.parser')"
   ]
  },
  {
   "cell_type": "code",
   "execution_count": 4,
   "metadata": {
    "collapsed": true
   },
   "outputs": [],
   "source": [
    "text_list = bs_obj.find_all(\"a\", \"nav-item-primary\")"
   ]
  },
  {
   "cell_type": "code",
   "execution_count": 5,
   "metadata": {},
   "outputs": [
    {
     "name": "stdout",
     "output_type": "stream",
     "text": [
      "首页\n",
      "理财\n",
      "众筹\n",
      "保险\n",
      "白条\n",
      "股票\n",
      "东家财富\n",
      "企业金融\n",
      "金融云\n",
      "城市计算\n",
      "\n",
      "\n"
     ]
    }
   ],
   "source": [
    "for text in text_list:\n",
    "    print(text.get_text())"
   ]
  },
  {
   "cell_type": "code",
   "execution_count": 6,
   "metadata": {
    "collapsed": true
   },
   "outputs": [],
   "source": [
    "html.close()"
   ]
  },
  {
   "cell_type": "code",
   "execution_count": 26,
   "metadata": {
    "collapsed": true
   },
   "outputs": [],
   "source": [
    "from selenium import webdriver\n",
    "import csv"
   ]
  },
  {
   "cell_type": "code",
   "execution_count": 27,
   "metadata": {
    "collapsed": true
   },
   "outputs": [],
   "source": [
    "url = 'http://music.163.com/#/discover/playlist/?order=hot&cat=%E5%85%A8%E9%83%A8&limit=35&offset=0'\n",
    "driver = webdriver.PhantomJS()"
   ]
  },
  {
   "cell_type": "code",
   "execution_count": 28,
   "metadata": {},
   "outputs": [
    {
     "data": {
      "text/plain": [
       "16"
      ]
     },
     "execution_count": 28,
     "metadata": {},
     "output_type": "execute_result"
    }
   ],
   "source": [
    "csv_file = open(\"playlist.csv\", \"w\", newline='',encoding='utf-8-sig')\n",
    "writer = csv.writer(csv_file)\n",
    "writer.writerow(['标题','number','link'])"
   ]
  },
  {
   "cell_type": "code",
   "execution_count": 29,
   "metadata": {},
   "outputs": [],
   "source": [
    "while url != 'javascript:void(0)':\n",
    "    driver.get(url)\n",
    "    driver.switch_to.frame(\"contentFrame\")\n",
    "    data = driver.find_element_by_id(\"m-pl-container\").find_elements_by_tag_name(\"li\")\n",
    "    for i in range(len(data)):\n",
    "        nb = data[i].find_element_by_class_name(\"nb\").text\n",
    "        if '万' in nb and int(nb.split(\"万\")[0]) > 500:\n",
    "            \n",
    "            msk = data[i].find_element_by_css_selector(\"a.msk\")\n",
    "            title = str(msk.get_attribute('title'))\n",
    "    \n",
    "            writer.writerow([title, nb, msk.get_attribute('href')])\n",
    "            \n",
    "    url = driver.find_element_by_css_selector(\"a.zbtn.znxt\").get_attribute('href')\n",
    "csv_file.close()"
   ]
  },
  {
   "cell_type": "code",
   "execution_count": null,
   "metadata": {
    "collapsed": true
   },
   "outputs": [],
   "source": []
  }
 ],
 "metadata": {
  "kernelspec": {
   "display_name": "Python 3",
   "language": "python",
   "name": "python3"
  },
  "language_info": {
   "codemirror_mode": {
    "name": "ipython",
    "version": 3
   },
   "file_extension": ".py",
   "mimetype": "text/x-python",
   "name": "python",
   "nbconvert_exporter": "python",
   "pygments_lexer": "ipython3",
   "version": "3.6.3"
  }
 },
 "nbformat": 4,
 "nbformat_minor": 2
}
